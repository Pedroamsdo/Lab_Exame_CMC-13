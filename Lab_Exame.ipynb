{
 "cells": [
  {
   "cell_type": "markdown",
   "source": [
    "# Laboratório Exame\n",
    "## Equipe:\n",
    "## Pedro Anacleto Martins Senna De Oliveira\n",
    "## André Luiz de Melo Thissen\n",
    "## Nikollas da Silva Antes\n",
    "## Pedro Luchiari de Carvalho"
   ],
   "metadata": {
    "collapsed": false,
    "pycharm": {
     "name": "#%% md\n"
    }
   }
  },
  {
   "cell_type": "code",
   "execution_count": 22,
   "outputs": [],
   "source": [
    "import pandas as pd\n",
    "import numpy as np"
   ],
   "metadata": {
    "collapsed": false,
    "pycharm": {
     "name": "#%%\n"
    }
   }
  },
  {
   "cell_type": "code",
   "execution_count": 23,
   "outputs": [
    {
     "data": {
      "text/plain": "        Unnamed: 0.1  Unnamed: 0  user_id      age        isbn  rating  \\\n0                 98          98        9  34.7439  0440234743       0   \n1                 99          99      243  34.7439  0440234743       0   \n2                100         100      388  35.0000  0440234743       0   \n3                103         103     3363  29.0000  0440234743       0   \n4                105         105     6795  31.0000  0440234743       0   \n...              ...         ...      ...      ...         ...     ...   \n131174        511368      511368   247055  25.0000  067169507X       0   \n131175        511369      511369   253696  62.0000  067169507X      10   \n131176        511370      511370   254971  53.0000  067169507X       8   \n131177        511371      511371   267326  37.0000  067169507X       0   \n131178        511372      511372   270187  34.7439  067169507X       0   \n\n              book_title   book_author  year_of_publication   publisher  \\\n0          The Testament  John Grisham               1999.0        Dell   \n1          The Testament  John Grisham               1999.0        Dell   \n2          The Testament  John Grisham               1999.0        Dell   \n3          The Testament  John Grisham               1999.0        Dell   \n4          The Testament  John Grisham               1999.0        Dell   \n...                  ...           ...                  ...         ...   \n131174  SEAT OF THE SOUL    Gary Zukav               1990.0  Free Press   \n131175  SEAT OF THE SOUL    Gary Zukav               1990.0  Free Press   \n131176  SEAT OF THE SOUL    Gary Zukav               1990.0  Free Press   \n131177  SEAT OF THE SOUL    Gary Zukav               1990.0  Free Press   \n131178  SEAT OF THE SOUL    Gary Zukav               1990.0  Free Press   \n\n                                                    img_l Language  \\\n0       http://images.amazon.com/images/P/0440234743.0...       en   \n1       http://images.amazon.com/images/P/0440234743.0...       en   \n2       http://images.amazon.com/images/P/0440234743.0...       en   \n3       http://images.amazon.com/images/P/0440234743.0...       en   \n4       http://images.amazon.com/images/P/0440234743.0...       en   \n...                                                   ...      ...   \n131174  http://images.amazon.com/images/P/067169507X.0...       en   \n131175  http://images.amazon.com/images/P/067169507X.0...       en   \n131176  http://images.amazon.com/images/P/067169507X.0...       en   \n131177  http://images.amazon.com/images/P/067169507X.0...       en   \n131178  http://images.amazon.com/images/P/067169507X.0...       en   \n\n                       Category         city        state country  \n0                   ['Fiction']   germantown    tennessee     usa  \n1                   ['Fiction']  arden hills    minnesota     usa  \n2                   ['Fiction']    nashville    tennessee     usa  \n3                   ['Fiction']    knoxville    tennessee     usa  \n4                   ['Fiction']     portland       oregon     usa  \n...                         ...          ...          ...     ...  \n131174  ['Body, Mind & Spirit']    daly city   california     usa  \n131175  ['Body, Mind & Spirit']     waldport       oregon     usa  \n131176  ['Body, Mind & Spirit']        boise        idaho     usa  \n131177  ['Body, Mind & Spirit']     longwood      florida     usa  \n131178  ['Body, Mind & Spirit']       bethel  connecticut     usa  \n\n[131179 rows x 16 columns]",
      "text/html": "<div>\n<style scoped>\n    .dataframe tbody tr th:only-of-type {\n        vertical-align: middle;\n    }\n\n    .dataframe tbody tr th {\n        vertical-align: top;\n    }\n\n    .dataframe thead th {\n        text-align: right;\n    }\n</style>\n<table border=\"1\" class=\"dataframe\">\n  <thead>\n    <tr style=\"text-align: right;\">\n      <th></th>\n      <th>Unnamed: 0.1</th>\n      <th>Unnamed: 0</th>\n      <th>user_id</th>\n      <th>age</th>\n      <th>isbn</th>\n      <th>rating</th>\n      <th>book_title</th>\n      <th>book_author</th>\n      <th>year_of_publication</th>\n      <th>publisher</th>\n      <th>img_l</th>\n      <th>Language</th>\n      <th>Category</th>\n      <th>city</th>\n      <th>state</th>\n      <th>country</th>\n    </tr>\n  </thead>\n  <tbody>\n    <tr>\n      <th>0</th>\n      <td>98</td>\n      <td>98</td>\n      <td>9</td>\n      <td>34.7439</td>\n      <td>0440234743</td>\n      <td>0</td>\n      <td>The Testament</td>\n      <td>John Grisham</td>\n      <td>1999.0</td>\n      <td>Dell</td>\n      <td>http://images.amazon.com/images/P/0440234743.0...</td>\n      <td>en</td>\n      <td>['Fiction']</td>\n      <td>germantown</td>\n      <td>tennessee</td>\n      <td>usa</td>\n    </tr>\n    <tr>\n      <th>1</th>\n      <td>99</td>\n      <td>99</td>\n      <td>243</td>\n      <td>34.7439</td>\n      <td>0440234743</td>\n      <td>0</td>\n      <td>The Testament</td>\n      <td>John Grisham</td>\n      <td>1999.0</td>\n      <td>Dell</td>\n      <td>http://images.amazon.com/images/P/0440234743.0...</td>\n      <td>en</td>\n      <td>['Fiction']</td>\n      <td>arden hills</td>\n      <td>minnesota</td>\n      <td>usa</td>\n    </tr>\n    <tr>\n      <th>2</th>\n      <td>100</td>\n      <td>100</td>\n      <td>388</td>\n      <td>35.0000</td>\n      <td>0440234743</td>\n      <td>0</td>\n      <td>The Testament</td>\n      <td>John Grisham</td>\n      <td>1999.0</td>\n      <td>Dell</td>\n      <td>http://images.amazon.com/images/P/0440234743.0...</td>\n      <td>en</td>\n      <td>['Fiction']</td>\n      <td>nashville</td>\n      <td>tennessee</td>\n      <td>usa</td>\n    </tr>\n    <tr>\n      <th>3</th>\n      <td>103</td>\n      <td>103</td>\n      <td>3363</td>\n      <td>29.0000</td>\n      <td>0440234743</td>\n      <td>0</td>\n      <td>The Testament</td>\n      <td>John Grisham</td>\n      <td>1999.0</td>\n      <td>Dell</td>\n      <td>http://images.amazon.com/images/P/0440234743.0...</td>\n      <td>en</td>\n      <td>['Fiction']</td>\n      <td>knoxville</td>\n      <td>tennessee</td>\n      <td>usa</td>\n    </tr>\n    <tr>\n      <th>4</th>\n      <td>105</td>\n      <td>105</td>\n      <td>6795</td>\n      <td>31.0000</td>\n      <td>0440234743</td>\n      <td>0</td>\n      <td>The Testament</td>\n      <td>John Grisham</td>\n      <td>1999.0</td>\n      <td>Dell</td>\n      <td>http://images.amazon.com/images/P/0440234743.0...</td>\n      <td>en</td>\n      <td>['Fiction']</td>\n      <td>portland</td>\n      <td>oregon</td>\n      <td>usa</td>\n    </tr>\n    <tr>\n      <th>...</th>\n      <td>...</td>\n      <td>...</td>\n      <td>...</td>\n      <td>...</td>\n      <td>...</td>\n      <td>...</td>\n      <td>...</td>\n      <td>...</td>\n      <td>...</td>\n      <td>...</td>\n      <td>...</td>\n      <td>...</td>\n      <td>...</td>\n      <td>...</td>\n      <td>...</td>\n      <td>...</td>\n    </tr>\n    <tr>\n      <th>131174</th>\n      <td>511368</td>\n      <td>511368</td>\n      <td>247055</td>\n      <td>25.0000</td>\n      <td>067169507X</td>\n      <td>0</td>\n      <td>SEAT OF THE SOUL</td>\n      <td>Gary Zukav</td>\n      <td>1990.0</td>\n      <td>Free Press</td>\n      <td>http://images.amazon.com/images/P/067169507X.0...</td>\n      <td>en</td>\n      <td>['Body, Mind &amp; Spirit']</td>\n      <td>daly city</td>\n      <td>california</td>\n      <td>usa</td>\n    </tr>\n    <tr>\n      <th>131175</th>\n      <td>511369</td>\n      <td>511369</td>\n      <td>253696</td>\n      <td>62.0000</td>\n      <td>067169507X</td>\n      <td>10</td>\n      <td>SEAT OF THE SOUL</td>\n      <td>Gary Zukav</td>\n      <td>1990.0</td>\n      <td>Free Press</td>\n      <td>http://images.amazon.com/images/P/067169507X.0...</td>\n      <td>en</td>\n      <td>['Body, Mind &amp; Spirit']</td>\n      <td>waldport</td>\n      <td>oregon</td>\n      <td>usa</td>\n    </tr>\n    <tr>\n      <th>131176</th>\n      <td>511370</td>\n      <td>511370</td>\n      <td>254971</td>\n      <td>53.0000</td>\n      <td>067169507X</td>\n      <td>8</td>\n      <td>SEAT OF THE SOUL</td>\n      <td>Gary Zukav</td>\n      <td>1990.0</td>\n      <td>Free Press</td>\n      <td>http://images.amazon.com/images/P/067169507X.0...</td>\n      <td>en</td>\n      <td>['Body, Mind &amp; Spirit']</td>\n      <td>boise</td>\n      <td>idaho</td>\n      <td>usa</td>\n    </tr>\n    <tr>\n      <th>131177</th>\n      <td>511371</td>\n      <td>511371</td>\n      <td>267326</td>\n      <td>37.0000</td>\n      <td>067169507X</td>\n      <td>0</td>\n      <td>SEAT OF THE SOUL</td>\n      <td>Gary Zukav</td>\n      <td>1990.0</td>\n      <td>Free Press</td>\n      <td>http://images.amazon.com/images/P/067169507X.0...</td>\n      <td>en</td>\n      <td>['Body, Mind &amp; Spirit']</td>\n      <td>longwood</td>\n      <td>florida</td>\n      <td>usa</td>\n    </tr>\n    <tr>\n      <th>131178</th>\n      <td>511372</td>\n      <td>511372</td>\n      <td>270187</td>\n      <td>34.7439</td>\n      <td>067169507X</td>\n      <td>0</td>\n      <td>SEAT OF THE SOUL</td>\n      <td>Gary Zukav</td>\n      <td>1990.0</td>\n      <td>Free Press</td>\n      <td>http://images.amazon.com/images/P/067169507X.0...</td>\n      <td>en</td>\n      <td>['Body, Mind &amp; Spirit']</td>\n      <td>bethel</td>\n      <td>connecticut</td>\n      <td>usa</td>\n    </tr>\n  </tbody>\n</table>\n<p>131179 rows × 16 columns</p>\n</div>"
     },
     "execution_count": 23,
     "metadata": {},
     "output_type": "execute_result"
    }
   ],
   "source": [
    "teste = pd.read_csv('exame_cmc13_dados_teste.csv',sep=';',on_bad_lines='skip')\n",
    "treinamento = pd.read_csv('exame_cmc13_dados_treinamento.csv',sep=';',on_bad_lines='skip')\n",
    "\n",
    "treinamento"
   ],
   "metadata": {
    "collapsed": false,
    "pycharm": {
     "name": "#%%\n"
    }
   }
  },
  {
   "cell_type": "code",
   "execution_count": 24,
   "outputs": [
    {
     "name": "stdout",
     "output_type": "stream",
     "text": [
      "True\n",
      "True\n",
      "False\n"
     ]
    },
    {
     "data": {
      "text/plain": "        Unnamed: 0.1  Unnamed: 0  user_id      age        isbn  rating  \\\n0                 98          98        9  34.7439  0440234743       0   \n1                 99          99      243  34.7439  0440234743       0   \n2                100         100      388  35.0000  0440234743       0   \n3                103         103     3363  29.0000  0440234743       0   \n4                105         105     6795  31.0000  0440234743       0   \n...              ...         ...      ...      ...         ...     ...   \n131174        511368      511368   247055  25.0000  067169507X       0   \n131175        511369      511369   253696  62.0000  067169507X      10   \n131176        511370      511370   254971  53.0000  067169507X       8   \n131177        511371      511371   267326  37.0000  067169507X       0   \n131178        511372      511372   270187  34.7439  067169507X       0   \n\n              book_title   book_author  year_of_publication   publisher  \\\n0          The Testament  John Grisham               1999.0        Dell   \n1          The Testament  John Grisham               1999.0        Dell   \n2          The Testament  John Grisham               1999.0        Dell   \n3          The Testament  John Grisham               1999.0        Dell   \n4          The Testament  John Grisham               1999.0        Dell   \n...                  ...           ...                  ...         ...   \n131174  SEAT OF THE SOUL    Gary Zukav               1990.0  Free Press   \n131175  SEAT OF THE SOUL    Gary Zukav               1990.0  Free Press   \n131176  SEAT OF THE SOUL    Gary Zukav               1990.0  Free Press   \n131177  SEAT OF THE SOUL    Gary Zukav               1990.0  Free Press   \n131178  SEAT OF THE SOUL    Gary Zukav               1990.0  Free Press   \n\n                                                    img_l Language  \\\n0       http://images.amazon.com/images/P/0440234743.0...       en   \n1       http://images.amazon.com/images/P/0440234743.0...       en   \n2       http://images.amazon.com/images/P/0440234743.0...       en   \n3       http://images.amazon.com/images/P/0440234743.0...       en   \n4       http://images.amazon.com/images/P/0440234743.0...       en   \n...                                                   ...      ...   \n131174  http://images.amazon.com/images/P/067169507X.0...       en   \n131175  http://images.amazon.com/images/P/067169507X.0...       en   \n131176  http://images.amazon.com/images/P/067169507X.0...       en   \n131177  http://images.amazon.com/images/P/067169507X.0...       en   \n131178  http://images.amazon.com/images/P/067169507X.0...       en   \n\n                       Category         city        state country  \n0                   ['Fiction']   germantown    tennessee     usa  \n1                   ['Fiction']  arden hills    minnesota     usa  \n2                   ['Fiction']    nashville    tennessee     usa  \n3                   ['Fiction']    knoxville    tennessee     usa  \n4                   ['Fiction']     portland       oregon     usa  \n...                         ...          ...          ...     ...  \n131174  ['Body, Mind & Spirit']    daly city   california     usa  \n131175  ['Body, Mind & Spirit']     waldport       oregon     usa  \n131176  ['Body, Mind & Spirit']        boise        idaho     usa  \n131177  ['Body, Mind & Spirit']     longwood      florida     usa  \n131178  ['Body, Mind & Spirit']       bethel  connecticut     usa  \n\n[125141 rows x 16 columns]",
      "text/html": "<div>\n<style scoped>\n    .dataframe tbody tr th:only-of-type {\n        vertical-align: middle;\n    }\n\n    .dataframe tbody tr th {\n        vertical-align: top;\n    }\n\n    .dataframe thead th {\n        text-align: right;\n    }\n</style>\n<table border=\"1\" class=\"dataframe\">\n  <thead>\n    <tr style=\"text-align: right;\">\n      <th></th>\n      <th>Unnamed: 0.1</th>\n      <th>Unnamed: 0</th>\n      <th>user_id</th>\n      <th>age</th>\n      <th>isbn</th>\n      <th>rating</th>\n      <th>book_title</th>\n      <th>book_author</th>\n      <th>year_of_publication</th>\n      <th>publisher</th>\n      <th>img_l</th>\n      <th>Language</th>\n      <th>Category</th>\n      <th>city</th>\n      <th>state</th>\n      <th>country</th>\n    </tr>\n  </thead>\n  <tbody>\n    <tr>\n      <th>0</th>\n      <td>98</td>\n      <td>98</td>\n      <td>9</td>\n      <td>34.7439</td>\n      <td>0440234743</td>\n      <td>0</td>\n      <td>The Testament</td>\n      <td>John Grisham</td>\n      <td>1999.0</td>\n      <td>Dell</td>\n      <td>http://images.amazon.com/images/P/0440234743.0...</td>\n      <td>en</td>\n      <td>['Fiction']</td>\n      <td>germantown</td>\n      <td>tennessee</td>\n      <td>usa</td>\n    </tr>\n    <tr>\n      <th>1</th>\n      <td>99</td>\n      <td>99</td>\n      <td>243</td>\n      <td>34.7439</td>\n      <td>0440234743</td>\n      <td>0</td>\n      <td>The Testament</td>\n      <td>John Grisham</td>\n      <td>1999.0</td>\n      <td>Dell</td>\n      <td>http://images.amazon.com/images/P/0440234743.0...</td>\n      <td>en</td>\n      <td>['Fiction']</td>\n      <td>arden hills</td>\n      <td>minnesota</td>\n      <td>usa</td>\n    </tr>\n    <tr>\n      <th>2</th>\n      <td>100</td>\n      <td>100</td>\n      <td>388</td>\n      <td>35.0000</td>\n      <td>0440234743</td>\n      <td>0</td>\n      <td>The Testament</td>\n      <td>John Grisham</td>\n      <td>1999.0</td>\n      <td>Dell</td>\n      <td>http://images.amazon.com/images/P/0440234743.0...</td>\n      <td>en</td>\n      <td>['Fiction']</td>\n      <td>nashville</td>\n      <td>tennessee</td>\n      <td>usa</td>\n    </tr>\n    <tr>\n      <th>3</th>\n      <td>103</td>\n      <td>103</td>\n      <td>3363</td>\n      <td>29.0000</td>\n      <td>0440234743</td>\n      <td>0</td>\n      <td>The Testament</td>\n      <td>John Grisham</td>\n      <td>1999.0</td>\n      <td>Dell</td>\n      <td>http://images.amazon.com/images/P/0440234743.0...</td>\n      <td>en</td>\n      <td>['Fiction']</td>\n      <td>knoxville</td>\n      <td>tennessee</td>\n      <td>usa</td>\n    </tr>\n    <tr>\n      <th>4</th>\n      <td>105</td>\n      <td>105</td>\n      <td>6795</td>\n      <td>31.0000</td>\n      <td>0440234743</td>\n      <td>0</td>\n      <td>The Testament</td>\n      <td>John Grisham</td>\n      <td>1999.0</td>\n      <td>Dell</td>\n      <td>http://images.amazon.com/images/P/0440234743.0...</td>\n      <td>en</td>\n      <td>['Fiction']</td>\n      <td>portland</td>\n      <td>oregon</td>\n      <td>usa</td>\n    </tr>\n    <tr>\n      <th>...</th>\n      <td>...</td>\n      <td>...</td>\n      <td>...</td>\n      <td>...</td>\n      <td>...</td>\n      <td>...</td>\n      <td>...</td>\n      <td>...</td>\n      <td>...</td>\n      <td>...</td>\n      <td>...</td>\n      <td>...</td>\n      <td>...</td>\n      <td>...</td>\n      <td>...</td>\n      <td>...</td>\n    </tr>\n    <tr>\n      <th>131174</th>\n      <td>511368</td>\n      <td>511368</td>\n      <td>247055</td>\n      <td>25.0000</td>\n      <td>067169507X</td>\n      <td>0</td>\n      <td>SEAT OF THE SOUL</td>\n      <td>Gary Zukav</td>\n      <td>1990.0</td>\n      <td>Free Press</td>\n      <td>http://images.amazon.com/images/P/067169507X.0...</td>\n      <td>en</td>\n      <td>['Body, Mind &amp; Spirit']</td>\n      <td>daly city</td>\n      <td>california</td>\n      <td>usa</td>\n    </tr>\n    <tr>\n      <th>131175</th>\n      <td>511369</td>\n      <td>511369</td>\n      <td>253696</td>\n      <td>62.0000</td>\n      <td>067169507X</td>\n      <td>10</td>\n      <td>SEAT OF THE SOUL</td>\n      <td>Gary Zukav</td>\n      <td>1990.0</td>\n      <td>Free Press</td>\n      <td>http://images.amazon.com/images/P/067169507X.0...</td>\n      <td>en</td>\n      <td>['Body, Mind &amp; Spirit']</td>\n      <td>waldport</td>\n      <td>oregon</td>\n      <td>usa</td>\n    </tr>\n    <tr>\n      <th>131176</th>\n      <td>511370</td>\n      <td>511370</td>\n      <td>254971</td>\n      <td>53.0000</td>\n      <td>067169507X</td>\n      <td>8</td>\n      <td>SEAT OF THE SOUL</td>\n      <td>Gary Zukav</td>\n      <td>1990.0</td>\n      <td>Free Press</td>\n      <td>http://images.amazon.com/images/P/067169507X.0...</td>\n      <td>en</td>\n      <td>['Body, Mind &amp; Spirit']</td>\n      <td>boise</td>\n      <td>idaho</td>\n      <td>usa</td>\n    </tr>\n    <tr>\n      <th>131177</th>\n      <td>511371</td>\n      <td>511371</td>\n      <td>267326</td>\n      <td>37.0000</td>\n      <td>067169507X</td>\n      <td>0</td>\n      <td>SEAT OF THE SOUL</td>\n      <td>Gary Zukav</td>\n      <td>1990.0</td>\n      <td>Free Press</td>\n      <td>http://images.amazon.com/images/P/067169507X.0...</td>\n      <td>en</td>\n      <td>['Body, Mind &amp; Spirit']</td>\n      <td>longwood</td>\n      <td>florida</td>\n      <td>usa</td>\n    </tr>\n    <tr>\n      <th>131178</th>\n      <td>511372</td>\n      <td>511372</td>\n      <td>270187</td>\n      <td>34.7439</td>\n      <td>067169507X</td>\n      <td>0</td>\n      <td>SEAT OF THE SOUL</td>\n      <td>Gary Zukav</td>\n      <td>1990.0</td>\n      <td>Free Press</td>\n      <td>http://images.amazon.com/images/P/067169507X.0...</td>\n      <td>en</td>\n      <td>['Body, Mind &amp; Spirit']</td>\n      <td>bethel</td>\n      <td>connecticut</td>\n      <td>usa</td>\n    </tr>\n  </tbody>\n</table>\n<p>125141 rows × 16 columns</p>\n</div>"
     },
     "execution_count": 24,
     "metadata": {},
     "output_type": "execute_result"
    }
   ],
   "source": [
    "print(treinamento.isnull().values.any())\n",
    "print(teste.isnull().values.any())\n",
    "treinamento = treinamento.dropna(how='any')\n",
    "print(treinamento.isnull().values.any())\n",
    "treinamento"
   ],
   "metadata": {
    "collapsed": false,
    "pycharm": {
     "name": "#%%\n"
    }
   }
  },
  {
   "cell_type": "code",
   "execution_count": null,
   "outputs": [],
   "source": [],
   "metadata": {
    "collapsed": false,
    "pycharm": {
     "name": "#%%\n"
    }
   }
  }
 ],
 "metadata": {
  "kernelspec": {
   "display_name": "Python 3",
   "language": "python",
   "name": "python3"
  },
  "language_info": {
   "codemirror_mode": {
    "name": "ipython",
    "version": 2
   },
   "file_extension": ".py",
   "mimetype": "text/x-python",
   "name": "python",
   "nbconvert_exporter": "python",
   "pygments_lexer": "ipython2",
   "version": "2.7.6"
  }
 },
 "nbformat": 4,
 "nbformat_minor": 0
}